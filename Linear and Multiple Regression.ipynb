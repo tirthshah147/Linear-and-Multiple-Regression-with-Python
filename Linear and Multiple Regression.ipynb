{
 "cells": [
  {
   "cell_type": "code",
   "execution_count": 3,
   "metadata": {},
   "outputs": [],
   "source": [
    "import numpy as np"
   ]
  },
  {
   "cell_type": "markdown",
   "metadata": {},
   "source": [
    "<h1>Extracting the txt data and converting into proper dataset</h1>"
   ]
  },
  {
   "cell_type": "code",
   "execution_count": 4,
   "metadata": {},
   "outputs": [],
   "source": [
    "file=open('ex1data1.txt','r')"
   ]
  },
  {
   "cell_type": "code",
   "execution_count": 5,
   "metadata": {},
   "outputs": [],
   "source": [
    "data=file.read()"
   ]
  },
  {
   "cell_type": "code",
   "execution_count": 6,
   "metadata": {},
   "outputs": [
    {
     "data": {
      "text/plain": [
       "'6.1101,17.592\\n5.5277,9.1302\\n8.5186,13.662\\n7.0032,11.854\\n5.8598,6.8233\\n8.3829,11.886\\n7.4764,4.3483\\n8.5781,12\\n6.4862,6.5987\\n5.0546,3.8166\\n5.7107,3.2522\\n14.164,15.505\\n5.734,3.1551\\n8.4084,7.2258\\n5.6407,0.71618\\n5.3794,3.5129\\n6.3654,5.3048\\n5.1301,0.56077\\n6.4296,3.6518\\n7.0708,5.3893\\n6.1891,3.1386\\n20.27,21.767\\n5.4901,4.263\\n6.3261,5.1875\\n5.5649,3.0825\\n18.945,22.638\\n12.828,13.501\\n10.957,7.0467\\n13.176,14.692\\n22.203,24.147\\n5.2524,-1.22\\n6.5894,5.9966\\n9.2482,12.134\\n5.8918,1.8495\\n8.2111,6.5426\\n7.9334,4.5623\\n8.0959,4.1164\\n5.6063,3.3928\\n12.836,10.117\\n6.3534,5.4974\\n5.4069,0.55657\\n6.8825,3.9115\\n11.708,5.3854\\n5.7737,2.4406\\n7.8247,6.7318\\n7.0931,1.0463\\n5.0702,5.1337\\n5.8014,1.844\\n11.7,8.0043\\n5.5416,1.0179\\n7.5402,6.7504\\n5.3077,1.8396\\n7.4239,4.2885\\n7.6031,4.9981\\n6.3328,1.4233\\n6.3589,-1.4211\\n6.2742,2.4756\\n5.6397,4.6042\\n9.3102,3.9624\\n9.4536,5.4141\\n8.8254,5.1694\\n5.1793,-0.74279\\n21.279,17.929\\n14.908,12.054\\n18.959,17.054\\n7.2182,4.8852\\n8.2951,5.7442\\n10.236,7.7754\\n5.4994,1.0173\\n20.341,20.992\\n10.136,6.6799\\n7.3345,4.0259\\n6.0062,1.2784\\n7.2259,3.3411\\n5.0269,-2.6807\\n6.5479,0.29678\\n7.5386,3.8845\\n5.0365,5.7014\\n10.274,6.7526\\n5.1077,2.0576\\n5.7292,0.47953\\n5.1884,0.20421\\n6.3557,0.67861\\n9.7687,7.5435\\n6.5159,5.3436\\n8.5172,4.2415\\n9.1802,6.7981\\n6.002,0.92695\\n5.5204,0.152\\n5.0594,2.8214\\n5.7077,1.8451\\n7.6366,4.2959\\n5.8707,7.2029\\n5.3054,1.9869\\n8.2934,0.14454\\n13.394,9.0551\\n5.4369,0.61705\\n'"
      ]
     },
     "execution_count": 6,
     "metadata": {},
     "output_type": "execute_result"
    }
   ],
   "source": [
    "data"
   ]
  },
  {
   "cell_type": "code",
   "execution_count": 7,
   "metadata": {},
   "outputs": [],
   "source": [
    "data=data.split('\\n')"
   ]
  },
  {
   "cell_type": "code",
   "execution_count": 8,
   "metadata": {},
   "outputs": [
    {
     "data": {
      "text/plain": [
       "['6.1101,17.592',\n",
       " '5.5277,9.1302',\n",
       " '8.5186,13.662',\n",
       " '7.0032,11.854',\n",
       " '5.8598,6.8233',\n",
       " '8.3829,11.886',\n",
       " '7.4764,4.3483',\n",
       " '8.5781,12',\n",
       " '6.4862,6.5987',\n",
       " '5.0546,3.8166',\n",
       " '5.7107,3.2522',\n",
       " '14.164,15.505',\n",
       " '5.734,3.1551',\n",
       " '8.4084,7.2258',\n",
       " '5.6407,0.71618',\n",
       " '5.3794,3.5129',\n",
       " '6.3654,5.3048',\n",
       " '5.1301,0.56077',\n",
       " '6.4296,3.6518',\n",
       " '7.0708,5.3893',\n",
       " '6.1891,3.1386',\n",
       " '20.27,21.767',\n",
       " '5.4901,4.263',\n",
       " '6.3261,5.1875',\n",
       " '5.5649,3.0825',\n",
       " '18.945,22.638',\n",
       " '12.828,13.501',\n",
       " '10.957,7.0467',\n",
       " '13.176,14.692',\n",
       " '22.203,24.147',\n",
       " '5.2524,-1.22',\n",
       " '6.5894,5.9966',\n",
       " '9.2482,12.134',\n",
       " '5.8918,1.8495',\n",
       " '8.2111,6.5426',\n",
       " '7.9334,4.5623',\n",
       " '8.0959,4.1164',\n",
       " '5.6063,3.3928',\n",
       " '12.836,10.117',\n",
       " '6.3534,5.4974',\n",
       " '5.4069,0.55657',\n",
       " '6.8825,3.9115',\n",
       " '11.708,5.3854',\n",
       " '5.7737,2.4406',\n",
       " '7.8247,6.7318',\n",
       " '7.0931,1.0463',\n",
       " '5.0702,5.1337',\n",
       " '5.8014,1.844',\n",
       " '11.7,8.0043',\n",
       " '5.5416,1.0179',\n",
       " '7.5402,6.7504',\n",
       " '5.3077,1.8396',\n",
       " '7.4239,4.2885',\n",
       " '7.6031,4.9981',\n",
       " '6.3328,1.4233',\n",
       " '6.3589,-1.4211',\n",
       " '6.2742,2.4756',\n",
       " '5.6397,4.6042',\n",
       " '9.3102,3.9624',\n",
       " '9.4536,5.4141',\n",
       " '8.8254,5.1694',\n",
       " '5.1793,-0.74279',\n",
       " '21.279,17.929',\n",
       " '14.908,12.054',\n",
       " '18.959,17.054',\n",
       " '7.2182,4.8852',\n",
       " '8.2951,5.7442',\n",
       " '10.236,7.7754',\n",
       " '5.4994,1.0173',\n",
       " '20.341,20.992',\n",
       " '10.136,6.6799',\n",
       " '7.3345,4.0259',\n",
       " '6.0062,1.2784',\n",
       " '7.2259,3.3411',\n",
       " '5.0269,-2.6807',\n",
       " '6.5479,0.29678',\n",
       " '7.5386,3.8845',\n",
       " '5.0365,5.7014',\n",
       " '10.274,6.7526',\n",
       " '5.1077,2.0576',\n",
       " '5.7292,0.47953',\n",
       " '5.1884,0.20421',\n",
       " '6.3557,0.67861',\n",
       " '9.7687,7.5435',\n",
       " '6.5159,5.3436',\n",
       " '8.5172,4.2415',\n",
       " '9.1802,6.7981',\n",
       " '6.002,0.92695',\n",
       " '5.5204,0.152',\n",
       " '5.0594,2.8214',\n",
       " '5.7077,1.8451',\n",
       " '7.6366,4.2959',\n",
       " '5.8707,7.2029',\n",
       " '5.3054,1.9869',\n",
       " '8.2934,0.14454',\n",
       " '13.394,9.0551',\n",
       " '5.4369,0.61705',\n",
       " '']"
      ]
     },
     "execution_count": 8,
     "metadata": {},
     "output_type": "execute_result"
    }
   ],
   "source": [
    "data"
   ]
  },
  {
   "cell_type": "code",
   "execution_count": 12,
   "metadata": {},
   "outputs": [],
   "source": [
    "main_df=[]"
   ]
  },
  {
   "cell_type": "code",
   "execution_count": 13,
   "metadata": {},
   "outputs": [],
   "source": [
    "for sets in data:\n",
    "    main_df.append(sets.split(','))"
   ]
  },
  {
   "cell_type": "code",
   "execution_count": 14,
   "metadata": {},
   "outputs": [],
   "source": [
    "main_df=main_df[:len(main_df)-1]   "
   ]
  },
  {
   "cell_type": "code",
   "execution_count": 15,
   "metadata": {},
   "outputs": [
    {
     "data": {
      "text/plain": [
       "[['6.1101', '17.592'],\n",
       " ['5.5277', '9.1302'],\n",
       " ['8.5186', '13.662'],\n",
       " ['7.0032', '11.854'],\n",
       " ['5.8598', '6.8233'],\n",
       " ['8.3829', '11.886'],\n",
       " ['7.4764', '4.3483'],\n",
       " ['8.5781', '12'],\n",
       " ['6.4862', '6.5987'],\n",
       " ['5.0546', '3.8166'],\n",
       " ['5.7107', '3.2522'],\n",
       " ['14.164', '15.505'],\n",
       " ['5.734', '3.1551'],\n",
       " ['8.4084', '7.2258'],\n",
       " ['5.6407', '0.71618'],\n",
       " ['5.3794', '3.5129'],\n",
       " ['6.3654', '5.3048'],\n",
       " ['5.1301', '0.56077'],\n",
       " ['6.4296', '3.6518'],\n",
       " ['7.0708', '5.3893'],\n",
       " ['6.1891', '3.1386'],\n",
       " ['20.27', '21.767'],\n",
       " ['5.4901', '4.263'],\n",
       " ['6.3261', '5.1875'],\n",
       " ['5.5649', '3.0825'],\n",
       " ['18.945', '22.638'],\n",
       " ['12.828', '13.501'],\n",
       " ['10.957', '7.0467'],\n",
       " ['13.176', '14.692'],\n",
       " ['22.203', '24.147'],\n",
       " ['5.2524', '-1.22'],\n",
       " ['6.5894', '5.9966'],\n",
       " ['9.2482', '12.134'],\n",
       " ['5.8918', '1.8495'],\n",
       " ['8.2111', '6.5426'],\n",
       " ['7.9334', '4.5623'],\n",
       " ['8.0959', '4.1164'],\n",
       " ['5.6063', '3.3928'],\n",
       " ['12.836', '10.117'],\n",
       " ['6.3534', '5.4974'],\n",
       " ['5.4069', '0.55657'],\n",
       " ['6.8825', '3.9115'],\n",
       " ['11.708', '5.3854'],\n",
       " ['5.7737', '2.4406'],\n",
       " ['7.8247', '6.7318'],\n",
       " ['7.0931', '1.0463'],\n",
       " ['5.0702', '5.1337'],\n",
       " ['5.8014', '1.844'],\n",
       " ['11.7', '8.0043'],\n",
       " ['5.5416', '1.0179'],\n",
       " ['7.5402', '6.7504'],\n",
       " ['5.3077', '1.8396'],\n",
       " ['7.4239', '4.2885'],\n",
       " ['7.6031', '4.9981'],\n",
       " ['6.3328', '1.4233'],\n",
       " ['6.3589', '-1.4211'],\n",
       " ['6.2742', '2.4756'],\n",
       " ['5.6397', '4.6042'],\n",
       " ['9.3102', '3.9624'],\n",
       " ['9.4536', '5.4141'],\n",
       " ['8.8254', '5.1694'],\n",
       " ['5.1793', '-0.74279'],\n",
       " ['21.279', '17.929'],\n",
       " ['14.908', '12.054'],\n",
       " ['18.959', '17.054'],\n",
       " ['7.2182', '4.8852'],\n",
       " ['8.2951', '5.7442'],\n",
       " ['10.236', '7.7754'],\n",
       " ['5.4994', '1.0173'],\n",
       " ['20.341', '20.992'],\n",
       " ['10.136', '6.6799'],\n",
       " ['7.3345', '4.0259'],\n",
       " ['6.0062', '1.2784'],\n",
       " ['7.2259', '3.3411'],\n",
       " ['5.0269', '-2.6807'],\n",
       " ['6.5479', '0.29678'],\n",
       " ['7.5386', '3.8845'],\n",
       " ['5.0365', '5.7014'],\n",
       " ['10.274', '6.7526'],\n",
       " ['5.1077', '2.0576'],\n",
       " ['5.7292', '0.47953'],\n",
       " ['5.1884', '0.20421'],\n",
       " ['6.3557', '0.67861'],\n",
       " ['9.7687', '7.5435'],\n",
       " ['6.5159', '5.3436'],\n",
       " ['8.5172', '4.2415'],\n",
       " ['9.1802', '6.7981'],\n",
       " ['6.002', '0.92695'],\n",
       " ['5.5204', '0.152'],\n",
       " ['5.0594', '2.8214'],\n",
       " ['5.7077', '1.8451'],\n",
       " ['7.6366', '4.2959'],\n",
       " ['5.8707', '7.2029'],\n",
       " ['5.3054', '1.9869'],\n",
       " ['8.2934', '0.14454'],\n",
       " ['13.394', '9.0551'],\n",
       " ['5.4369', '0.61705']]"
      ]
     },
     "execution_count": 15,
     "metadata": {},
     "output_type": "execute_result"
    }
   ],
   "source": [
    "main_df"
   ]
  },
  {
   "cell_type": "code",
   "execution_count": 16,
   "metadata": {},
   "outputs": [],
   "source": [
    "for i in range(len(main_df)):\n",
    "    for j in range(2):\n",
    "        main_df[i][j]=float(main_df[i][j])"
   ]
  },
  {
   "cell_type": "code",
   "execution_count": 17,
   "metadata": {},
   "outputs": [
    {
     "data": {
      "text/plain": [
       "[[6.1101, 17.592],\n",
       " [5.5277, 9.1302],\n",
       " [8.5186, 13.662],\n",
       " [7.0032, 11.854],\n",
       " [5.8598, 6.8233],\n",
       " [8.3829, 11.886],\n",
       " [7.4764, 4.3483],\n",
       " [8.5781, 12.0],\n",
       " [6.4862, 6.5987],\n",
       " [5.0546, 3.8166],\n",
       " [5.7107, 3.2522],\n",
       " [14.164, 15.505],\n",
       " [5.734, 3.1551],\n",
       " [8.4084, 7.2258],\n",
       " [5.6407, 0.71618],\n",
       " [5.3794, 3.5129],\n",
       " [6.3654, 5.3048],\n",
       " [5.1301, 0.56077],\n",
       " [6.4296, 3.6518],\n",
       " [7.0708, 5.3893],\n",
       " [6.1891, 3.1386],\n",
       " [20.27, 21.767],\n",
       " [5.4901, 4.263],\n",
       " [6.3261, 5.1875],\n",
       " [5.5649, 3.0825],\n",
       " [18.945, 22.638],\n",
       " [12.828, 13.501],\n",
       " [10.957, 7.0467],\n",
       " [13.176, 14.692],\n",
       " [22.203, 24.147],\n",
       " [5.2524, -1.22],\n",
       " [6.5894, 5.9966],\n",
       " [9.2482, 12.134],\n",
       " [5.8918, 1.8495],\n",
       " [8.2111, 6.5426],\n",
       " [7.9334, 4.5623],\n",
       " [8.0959, 4.1164],\n",
       " [5.6063, 3.3928],\n",
       " [12.836, 10.117],\n",
       " [6.3534, 5.4974],\n",
       " [5.4069, 0.55657],\n",
       " [6.8825, 3.9115],\n",
       " [11.708, 5.3854],\n",
       " [5.7737, 2.4406],\n",
       " [7.8247, 6.7318],\n",
       " [7.0931, 1.0463],\n",
       " [5.0702, 5.1337],\n",
       " [5.8014, 1.844],\n",
       " [11.7, 8.0043],\n",
       " [5.5416, 1.0179],\n",
       " [7.5402, 6.7504],\n",
       " [5.3077, 1.8396],\n",
       " [7.4239, 4.2885],\n",
       " [7.6031, 4.9981],\n",
       " [6.3328, 1.4233],\n",
       " [6.3589, -1.4211],\n",
       " [6.2742, 2.4756],\n",
       " [5.6397, 4.6042],\n",
       " [9.3102, 3.9624],\n",
       " [9.4536, 5.4141],\n",
       " [8.8254, 5.1694],\n",
       " [5.1793, -0.74279],\n",
       " [21.279, 17.929],\n",
       " [14.908, 12.054],\n",
       " [18.959, 17.054],\n",
       " [7.2182, 4.8852],\n",
       " [8.2951, 5.7442],\n",
       " [10.236, 7.7754],\n",
       " [5.4994, 1.0173],\n",
       " [20.341, 20.992],\n",
       " [10.136, 6.6799],\n",
       " [7.3345, 4.0259],\n",
       " [6.0062, 1.2784],\n",
       " [7.2259, 3.3411],\n",
       " [5.0269, -2.6807],\n",
       " [6.5479, 0.29678],\n",
       " [7.5386, 3.8845],\n",
       " [5.0365, 5.7014],\n",
       " [10.274, 6.7526],\n",
       " [5.1077, 2.0576],\n",
       " [5.7292, 0.47953],\n",
       " [5.1884, 0.20421],\n",
       " [6.3557, 0.67861],\n",
       " [9.7687, 7.5435],\n",
       " [6.5159, 5.3436],\n",
       " [8.5172, 4.2415],\n",
       " [9.1802, 6.7981],\n",
       " [6.002, 0.92695],\n",
       " [5.5204, 0.152],\n",
       " [5.0594, 2.8214],\n",
       " [5.7077, 1.8451],\n",
       " [7.6366, 4.2959],\n",
       " [5.8707, 7.2029],\n",
       " [5.3054, 1.9869],\n",
       " [8.2934, 0.14454],\n",
       " [13.394, 9.0551],\n",
       " [5.4369, 0.61705]]"
      ]
     },
     "execution_count": 17,
     "metadata": {},
     "output_type": "execute_result"
    }
   ],
   "source": [
    "main_df"
   ]
  },
  {
   "cell_type": "code",
   "execution_count": 18,
   "metadata": {},
   "outputs": [],
   "source": [
    "y=[]\n",
    "for i in range(len(main_df)):\n",
    "    y.append(main_df[i][1])"
   ]
  },
  {
   "cell_type": "code",
   "execution_count": 19,
   "metadata": {},
   "outputs": [],
   "source": [
    "for i in range(len(main_df)):\n",
    "    temp=main_df[i][0]\n",
    "    main_df[i][0]=1\n",
    "    main_df[i][1]=temp     "
   ]
  },
  {
   "cell_type": "code",
   "execution_count": 20,
   "metadata": {},
   "outputs": [],
   "source": [
    "X=main_df.copy()"
   ]
  },
  {
   "cell_type": "code",
   "execution_count": 21,
   "metadata": {},
   "outputs": [],
   "source": [
    "X=np.array(X)"
   ]
  },
  {
   "cell_type": "code",
   "execution_count": 22,
   "metadata": {},
   "outputs": [],
   "source": [
    "y=np.array(y)"
   ]
  },
  {
   "cell_type": "code",
   "execution_count": null,
   "metadata": {},
   "outputs": [],
   "source": [
    "# Now our dataset is ready we have extracted X and y ."
   ]
  },
  {
   "cell_type": "markdown",
   "metadata": {},
   "source": [
    "<h2>Initializing theta</h2>"
   ]
  },
  {
   "cell_type": "code",
   "execution_count": 18,
   "metadata": {},
   "outputs": [],
   "source": [
    "theta=np.zeros((X.shape[1],1),dtype=float)"
   ]
  },
  {
   "cell_type": "markdown",
   "metadata": {},
   "source": [
    "<h3>Visualizing the dataset</h3> "
   ]
  },
  {
   "cell_type": "code",
   "execution_count": 19,
   "metadata": {},
   "outputs": [],
   "source": [
    "import matplotlib.pyplot as plt"
   ]
  },
  {
   "cell_type": "code",
   "execution_count": 20,
   "metadata": {},
   "outputs": [
    {
     "data": {
      "image/png": "[encoded data removed]",
      "text/plain": [
       "<Figure size 432x288 with 1 Axes>"
      ]
     },
     "metadata": {
      "needs_background": "light"
     },
     "output_type": "display_data"
    }
   ],
   "source": [
    "plt.plot(X[:,1],y,'+')\n",
    "plt.show()"
   ]
  },
  {
   "cell_type": "code",
   "execution_count": 21,
   "metadata": {},
   "outputs": [],
   "source": [
    "y=y.reshape(97,1) #reshaping y "
   ]
  },
  {
   "cell_type": "markdown",
   "metadata": {},
   "source": [
    "<h1>Defining the costFunction function</h1>"
   ]
  },
  {
   "cell_type": "code",
   "execution_count": 22,
   "metadata": {},
   "outputs": [
    {
     "name": "stdout",
     "output_type": "stream",
     "text": [
      "[32.07273388]\n"
     ]
    }
   ],
   "source": [
    "# This function calculates cost function (general)\n",
    "def costFunction(X,y,theta):\n",
    "    m=len(X)\n",
    "    cost=(sum((np.dot(X,theta)-y)**2))*(1/(2*m))\n",
    "    return cost\n",
    "cost=costFunction(X,y,theta)\n",
    "print(cost)"
   ]
  },
  {
   "cell_type": "markdown",
   "metadata": {},
   "source": [
    "<h1>Defining the gradientDescent function</h1>"
   ]
  },
  {
   "cell_type": "code",
   "execution_count": 23,
   "metadata": {},
   "outputs": [],
   "source": [
    "# This function performs the gradient Descent\n",
    "def gradientDescent(X,y,theta,max_iter,alpha):\n",
    "    m=len(X)\n",
    "    J_history=[]\n",
    "    theta0=0\n",
    "    theta1=0\n",
    "    for i in range(max_iter):\n",
    "        theta0=theta[0]-(sum((np.dot(X,theta)-y)*X[:,0].reshape(len(X),1)))*(1/m)*alpha\n",
    "        theta1=theta[1]-(sum((np.dot(X,theta)-y)*X[:,1].reshape(len(X),1)))*(1/m)*alpha\n",
    "        theta[0]=theta0\n",
    "        theta[1]=theta1\n",
    "        J_history.append(costFunction(X,y,theta))\n",
    "    return theta,J_history\n",
    "    \n",
    "\n",
    "    "
   ]
  },
  {
   "cell_type": "code",
   "execution_count": 24,
   "metadata": {},
   "outputs": [],
   "source": [
    "theta_final,J_history=gradientDescent(X,y,theta,1500,0.01)"
   ]
  },
  {
   "cell_type": "code",
   "execution_count": 25,
   "metadata": {},
   "outputs": [
    {
     "data": {
      "text/plain": [
       "array([[-3.63029144],\n",
       "       [ 1.16636235]])"
      ]
     },
     "execution_count": 25,
     "metadata": {},
     "output_type": "execute_result"
    }
   ],
   "source": [
    "theta_final"
   ]
  },
  {
   "cell_type": "code",
   "execution_count": null,
   "metadata": {},
   "outputs": [],
   "source": []
  },
  {
   "cell_type": "code",
   "execution_count": 1,
   "metadata": {},
   "outputs": [],
   "source": [
    "# This function performs the gradient Descent for multiple variables\n",
    "def gradientDescent(X,y,theta_main,max_iter,alpha):\n",
    "    theta_temp=np.zeros((X.shape[1],1),dtype=float)\n",
    "    for j in range(max_iter):\n",
    "        for i in range(X.shape[1]):\n",
    "            theta_temp[i]=theta_main[i]-(sum((np.dot(X,theta_main)-y)*X[:,i].reshape(len(X),1)))*(1/m)*alpha\n",
    "        theta_main=theta_temp.copy()\n",
    "        J_history.append(costFunction(X,y,theta_main))\n",
    "        return theta_main.J_history\n",
    "            \n",
    "        \n"
   ]
  },
  {
   "cell_type": "markdown",
   "metadata": {},
   "source": [
    "<h2>Applying feature normalization</h2>"
   ]
  },
  {
   "cell_type": "code",
   "execution_count": null,
   "metadata": {},
   "outputs": [],
   "source": [
    "# we don't have to scale the first column that is [1,1,1,1,1........,1,1,1]. So apply feature scaling without that column."
   ]
  },
  {
   "cell_type": "code",
   "execution_count": null,
   "metadata": {},
   "outputs": [],
   "source": [
    "for i in range(X.shape[1]):\n",
    "    mean=X[:,i].mean()\n",
    "    std=X[:,i].std()\n",
    "    X[:,i]=(X[:,i]-mean)/std"
   ]
  },
  {
   "cell_type": "markdown",
   "metadata": {},
   "source": [
    "<h2>Normal Equation</h2>"
   ]
  },
  {
   "cell_type": "code",
   "execution_count": 28,
   "metadata": {},
   "outputs": [],
   "source": [
    "# Normal equation helps to calculate thetas without gradient descent"
   ]
  },
  {
   "cell_type": "code",
   "execution_count": null,
   "metadata": {},
   "outputs": [],
   "source": [
    "theta=np.dot(np.dot(np.dot(np.transpose(X),X),np.transpose(X)),y)"
   ]
  },
  {
   "cell_type": "code",
   "execution_count": null,
   "metadata": {},
   "outputs": [],
   "source": []
  },
  {
   "cell_type": "code",
   "execution_count": null,
   "metadata": {},
   "outputs": [],
   "source": []
  }
 ],
 "metadata": {
  "kernelspec": {
   "display_name": "Python 3",
   "language": "python",
   "name": "python3"
  },
  "language_info": {
   "codemirror_mode": {
    "name": "ipython",
    "version": 3
   },
   "file_extension": ".py",
   "mimetype": "text/x-python",
   "name": "python",
   "nbconvert_exporter": "python",
   "pygments_lexer": "ipython3",
   "version": "3.6.1"
  }
 },
 "nbformat": 4,
 "nbformat_minor": 2
}
